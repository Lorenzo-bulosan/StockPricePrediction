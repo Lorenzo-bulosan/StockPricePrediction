{
  "nbformat": 4,
  "nbformat_minor": 0,
  "metadata": {
    "colab": {
      "name": "StockPredictionLSTM.ipynb",
      "provenance": [],
      "collapsed_sections": []
    },
    "kernelspec": {
      "name": "python3",
      "display_name": "Python 3"
    },
    "accelerator": "GPU"
  },
  "cells": [
    {
      "cell_type": "markdown",
      "metadata": {
        "id": "_i6yLXfNDvuc",
        "colab_type": "text"
      },
      "source": [
        "**Helpful Documentation**\n",
        "\n",
        "*Documentation for stock library:\n",
        "https://readthedocs.org/projects/pandas-datareader/downloads/pdf/latest/\n",
        "\n",
        "*Documentation for dataframes below:\n",
        "https://pandas.pydata.org/pandas-docs/stable/reference/api/pandas.DataFrame.iloc.html\n",
        "\n",
        "*Documentation for plotting pretty graphs below:\n",
        "https://matplotlib.org/3.2.1/tutorials/introductory/sample_plots.html"
      ]
    },
    {
      "cell_type": "code",
      "metadata": {
        "id": "I9KvvCw78xnp",
        "colab_type": "code",
        "colab": {}
      },
      "source": [
        "# Install required Libraries\n",
        "!pip install pandas_datareader"
      ],
      "execution_count": 0,
      "outputs": []
    },
    {
      "cell_type": "code",
      "metadata": {
        "id": "WV_QnDdVBVRd",
        "colab_type": "code",
        "outputId": "53c5909d-c439-46c0-cfc6-12310fa35483",
        "colab": {
          "base_uri": "https://localhost:8080/",
          "height": 220
        }
      },
      "source": [
        "## Import Libraries and set information\n",
        "from pandas_datareader import data\n",
        "from datetime import date\n",
        "\n",
        "import pandas as pd\n",
        "import matplotlib.pyplot as plt\n",
        "import numpy as np\n",
        "import math\n",
        "\n",
        "from sklearn.preprocessing import MinMaxScaler\n",
        "from tensorflow.keras.models import Sequential\n",
        "from tensorflow.keras.layers import Input, Dense, GRU, Embedding, LSTM\n",
        "from tensorflow.keras.optimizers import RMSprop\n",
        "from tensorflow.keras.optimizers import Adam\n",
        "from tensorflow.keras.callbacks import EarlyStopping, ModelCheckpoint, TensorBoard, ReduceLROnPlateau\n",
        "from tensorflow.keras.backend import square, mean\n",
        "import tensorflow as tf\n",
        "\n",
        "# Get Current Date\n",
        "today = date.today()\n",
        "currentDate = today.strftime(\"%Y/%m/%d\")\n",
        "\n",
        "# Set Info\n",
        "start_date = '2018-01-01'\n",
        "end_date = currentDate\n",
        "stockName = 'TSLA'\n",
        "\n",
        "# Get the data\n",
        "stockData = data.get_data_yahoo(stockName, start_date, end_date)\n",
        "stockData.head()"
      ],
      "execution_count": 233,
      "outputs": [
        {
          "output_type": "execute_result",
          "data": {
            "text/html": [
              "<div>\n",
              "<style scoped>\n",
              "    .dataframe tbody tr th:only-of-type {\n",
              "        vertical-align: middle;\n",
              "    }\n",
              "\n",
              "    .dataframe tbody tr th {\n",
              "        vertical-align: top;\n",
              "    }\n",
              "\n",
              "    .dataframe thead th {\n",
              "        text-align: right;\n",
              "    }\n",
              "</style>\n",
              "<table border=\"1\" class=\"dataframe\">\n",
              "  <thead>\n",
              "    <tr style=\"text-align: right;\">\n",
              "      <th></th>\n",
              "      <th>High</th>\n",
              "      <th>Low</th>\n",
              "      <th>Open</th>\n",
              "      <th>Close</th>\n",
              "      <th>Volume</th>\n",
              "      <th>Adj Close</th>\n",
              "    </tr>\n",
              "    <tr>\n",
              "      <th>Date</th>\n",
              "      <th></th>\n",
              "      <th></th>\n",
              "      <th></th>\n",
              "      <th></th>\n",
              "      <th></th>\n",
              "      <th></th>\n",
              "    </tr>\n",
              "  </thead>\n",
              "  <tbody>\n",
              "    <tr>\n",
              "      <th>2018-01-02</th>\n",
              "      <td>322.109985</td>\n",
              "      <td>311.000000</td>\n",
              "      <td>312.000000</td>\n",
              "      <td>320.529999</td>\n",
              "      <td>4352200</td>\n",
              "      <td>320.529999</td>\n",
              "    </tr>\n",
              "    <tr>\n",
              "      <th>2018-01-03</th>\n",
              "      <td>325.250000</td>\n",
              "      <td>315.549988</td>\n",
              "      <td>321.000000</td>\n",
              "      <td>317.250000</td>\n",
              "      <td>4521500</td>\n",
              "      <td>317.250000</td>\n",
              "    </tr>\n",
              "    <tr>\n",
              "      <th>2018-01-04</th>\n",
              "      <td>318.549988</td>\n",
              "      <td>305.679993</td>\n",
              "      <td>312.869995</td>\n",
              "      <td>314.619995</td>\n",
              "      <td>9946300</td>\n",
              "      <td>314.619995</td>\n",
              "    </tr>\n",
              "    <tr>\n",
              "      <th>2018-01-05</th>\n",
              "      <td>317.239990</td>\n",
              "      <td>312.000000</td>\n",
              "      <td>316.619995</td>\n",
              "      <td>316.579987</td>\n",
              "      <td>4591200</td>\n",
              "      <td>316.579987</td>\n",
              "    </tr>\n",
              "    <tr>\n",
              "      <th>2018-01-08</th>\n",
              "      <td>337.019989</td>\n",
              "      <td>315.500000</td>\n",
              "      <td>316.000000</td>\n",
              "      <td>336.410004</td>\n",
              "      <td>9859400</td>\n",
              "      <td>336.410004</td>\n",
              "    </tr>\n",
              "  </tbody>\n",
              "</table>\n",
              "</div>"
            ],
            "text/plain": [
              "                  High         Low        Open       Close   Volume   Adj Close\n",
              "Date                                                                           \n",
              "2018-01-02  322.109985  311.000000  312.000000  320.529999  4352200  320.529999\n",
              "2018-01-03  325.250000  315.549988  321.000000  317.250000  4521500  317.250000\n",
              "2018-01-04  318.549988  305.679993  312.869995  314.619995  9946300  314.619995\n",
              "2018-01-05  317.239990  312.000000  316.619995  316.579987  4591200  316.579987\n",
              "2018-01-08  337.019989  315.500000  316.000000  336.410004  9859400  336.410004"
            ]
          },
          "metadata": {
            "tags": []
          },
          "execution_count": 233
        }
      ]
    },
    {
      "cell_type": "markdown",
      "metadata": {
        "id": "hey1qmYDNZGH",
        "colab_type": "text"
      },
      "source": [
        "Plot raw results"
      ]
    },
    {
      "cell_type": "code",
      "metadata": {
        "id": "WJ7UWAK0I1B6",
        "colab_type": "code",
        "outputId": "f035ae60-4b28-40f9-9486-26b56359b084",
        "colab": {
          "base_uri": "https://localhost:8080/",
          "height": 311
        }
      },
      "source": [
        "## Visualization\n",
        "plt.figure()\n",
        "plt.title('Closing Price in £')\n",
        "plt.plot(stockData[\"Close\"], color='black')\n",
        "plt.xlabel('Date')\n",
        "plt.ylabel('Sterling Pounds')\n",
        "plt.legend()\n",
        "plt.grid()\n",
        "\n",
        "currentFig = plt.gcf()\n",
        "currentFig.set_facecolor('white')\n",
        "plt.show()"
      ],
      "execution_count": 179,
      "outputs": [
        {
          "output_type": "stream",
          "text": [
            "No handles with labels found to put in legend.\n"
          ],
          "name": "stderr"
        },
        {
          "output_type": "display_data",
          "data": {
            "image/png": "[encoded data removed]",
            "text/plain": [
              "<Figure size 432x288 with 1 Axes>"
            ]
          },
          "metadata": {
            "tags": []
          }
        }
      ]
    },
    {
      "cell_type": "markdown",
      "metadata": {
        "id": "8sWe1sVN6GoV",
        "colab_type": "text"
      },
      "source": [
        "Implement regression using Recurrent Neural Network"
      ]
    },
    {
      "cell_type": "code",
      "metadata": {
        "id": "uMY1VFmp6F-Z",
        "colab_type": "code",
        "colab": {}
      },
      "source": [
        "## Extract Clossing price\n",
        "data = stockData.filter(['Close'])\n",
        "dataset = data.values\n"
      ],
      "execution_count": 0,
      "outputs": []
    },
    {
      "cell_type": "code",
      "metadata": {
        "id": "sUz0RoxKDZkr",
        "colab_type": "code",
        "colab": {}
      },
      "source": [
        "## Preprocess the data\n",
        "normalizer = MinMaxScaler(feature_range=(0,1)) # instantiate scaler\n",
        "normalizedData = normalizer.fit_transform(dataset) # values between 0,1\n"
      ],
      "execution_count": 0,
      "outputs": []
    },
    {
      "cell_type": "code",
      "metadata": {
        "id": "rTz8sJ2EeH4i",
        "colab_type": "code",
        "outputId": "1eafc1b7-d38e-45ec-b738-c8edbb3a7091",
        "colab": {
          "base_uri": "https://localhost:8080/",
          "height": 33
        }
      },
      "source": [
        "## Create training data\n",
        "trainingComponent = 0.8\n",
        "trainingDataLength = math.ceil(len(dataset)*trainingComponent)\n",
        "trainingData =  normalizedData[0:trainingDataLength, :]\n",
        "\n",
        "# split training data into input/output\n",
        "xTrain = []\n",
        "yTrain = []\n",
        "\n",
        "# populate\n",
        "days = 60\n",
        "for i in range(days,len(trainingData)):\n",
        "  xTrain.append(trainingData[i-days:i, 0]) # past 60\n",
        "  yTrain.append(trainingData[i, 0])\n",
        "\n",
        "# make into numpy arrays\n",
        "xTrain = np.array(xTrain)\n",
        "yTrain = np.array(yTrain)\n",
        "\n",
        "# reshape to fit model as LSTM expects 3 dim\n",
        "xTrain.shape # currently 2 dim\n",
        "xTrain = np.reshape(xTrain,(xTrain.shape[0],xTrain.shape[1],1)) #reshape into row, column, features\n",
        "xTrain.shape # now 3dim\n"
      ],
      "execution_count": 207,
      "outputs": [
        {
          "output_type": "execute_result",
          "data": {
            "text/plain": [
              "(432, 60, 1)"
            ]
          },
          "metadata": {
            "tags": []
          },
          "execution_count": 207
        }
      ]
    },
    {
      "cell_type": "code",
      "metadata": {
        "id": "0HBuvNoxi08X",
        "colab_type": "code",
        "colab": {}
      },
      "source": [
        "## Create testing data\n",
        "testingData = normalizedData[trainingDataLength-days:, : ]\n",
        "\n",
        "# split training data into input/output\n",
        "xTest = []\n",
        "yTest = dataset[trainingDataLength:, : ]\n",
        "\n",
        "for i in range(days,len(testingData)):\n",
        "  xTest.append(testingData[i-days:i, 0]) # past 60\n",
        "\n",
        "# make into numpy arrays\n",
        "xTest = np.array(xTest)\n",
        "yTest = np.array(yTest)\n",
        "\n",
        "# reshape to fit model as LSTM expects 3 dim\n",
        "xTest = np.reshape(xTest , (xTest.shape[0], xTest.shape[1], 1))\n"
      ],
      "execution_count": 0,
      "outputs": []
    },
    {
      "cell_type": "code",
      "metadata": {
        "id": "TzOrw31GnMYo",
        "colab_type": "code",
        "outputId": "d40cf463-4564-4976-9931-2042abd6848f",
        "colab": {
          "base_uri": "https://localhost:8080/",
          "height": 277
        }
      },
      "source": [
        "## Creating LSTM model\n",
        "model = Sequential()\n",
        "\n",
        "model.add(LSTM(256, return_sequences=True, input_shape=(xTrain.shape[1],1)))\n",
        "model.add(LSTM(256, return_sequences=False))\n",
        "model.add(Dense(25))\n",
        "model.add(Dense(1))\n",
        "\n",
        "# compile model\n",
        "opt = Adam(learning_rate=0.001)\n",
        "model.compile(optimizer=opt, loss='mean_squared_error')\n",
        "model.summary()"
      ],
      "execution_count": 209,
      "outputs": [
        {
          "output_type": "stream",
          "text": [
            "Model: \"sequential_30\"\n",
            "_________________________________________________________________\n",
            "Layer (type)                 Output Shape              Param #   \n",
            "=================================================================\n",
            "lstm_72 (LSTM)               (None, 60, 256)           264192    \n",
            "_________________________________________________________________\n",
            "lstm_73 (LSTM)               (None, 256)               525312    \n",
            "_________________________________________________________________\n",
            "dense_75 (Dense)             (None, 25)                6425      \n",
            "_________________________________________________________________\n",
            "dense_76 (Dense)             (None, 1)                 26        \n",
            "=================================================================\n",
            "Total params: 795,955\n",
            "Trainable params: 795,955\n",
            "Non-trainable params: 0\n",
            "_________________________________________________________________\n"
          ],
          "name": "stdout"
        }
      ]
    },
    {
      "cell_type": "code",
      "metadata": {
        "id": "JFRlgb8eoBjw",
        "colab_type": "code",
        "outputId": "cb5b7119-bb93-43f6-bf28-d148f054af68",
        "colab": {
          "base_uri": "https://localhost:8080/",
          "height": 1000
        }
      },
      "source": [
        "## Training model\n",
        "model.fit(xTrain, yTrain, batch_size=100, epochs=50, validation_data=(xTest,yTest))"
      ],
      "execution_count": 210,
      "outputs": [
        {
          "output_type": "stream",
          "text": [
            "Epoch 1/50\n",
            "5/5 [==============================] - 1s 129ms/step - loss: 0.0069 - val_loss: 460135.8125\n",
            "Epoch 2/50\n",
            "5/5 [==============================] - 0s 20ms/step - loss: 0.0018 - val_loss: 459882.3750\n",
            "Epoch 3/50\n",
            "5/5 [==============================] - 0s 20ms/step - loss: 9.7121e-04 - val_loss: 460022.0938\n",
            "Epoch 4/50\n",
            "5/5 [==============================] - 0s 20ms/step - loss: 9.9229e-04 - val_loss: 459894.7188\n",
            "Epoch 5/50\n",
            "5/5 [==============================] - 0s 20ms/step - loss: 8.2459e-04 - val_loss: 459882.9688\n",
            "Epoch 6/50\n",
            "5/5 [==============================] - 0s 19ms/step - loss: 5.4019e-04 - val_loss: 459862.2188\n",
            "Epoch 7/50\n",
            "5/5 [==============================] - 0s 19ms/step - loss: 4.9104e-04 - val_loss: 459778.2188\n",
            "Epoch 8/50\n",
            "5/5 [==============================] - 0s 18ms/step - loss: 4.5902e-04 - val_loss: 459790.0312\n",
            "Epoch 9/50\n",
            "5/5 [==============================] - 0s 19ms/step - loss: 4.4603e-04 - val_loss: 459750.8125\n",
            "Epoch 10/50\n",
            "5/5 [==============================] - 0s 19ms/step - loss: 4.4620e-04 - val_loss: 459800.1875\n",
            "Epoch 11/50\n",
            "5/5 [==============================] - 0s 18ms/step - loss: 4.3532e-04 - val_loss: 459787.6875\n",
            "Epoch 12/50\n",
            "5/5 [==============================] - 0s 19ms/step - loss: 4.1342e-04 - val_loss: 459807.9375\n",
            "Epoch 13/50\n",
            "5/5 [==============================] - 0s 19ms/step - loss: 3.9950e-04 - val_loss: 459796.6562\n",
            "Epoch 14/50\n",
            "5/5 [==============================] - 0s 20ms/step - loss: 3.9264e-04 - val_loss: 459792.9062\n",
            "Epoch 15/50\n",
            "5/5 [==============================] - 0s 19ms/step - loss: 3.8207e-04 - val_loss: 459776.0938\n",
            "Epoch 16/50\n",
            "5/5 [==============================] - 0s 19ms/step - loss: 3.8520e-04 - val_loss: 459790.5938\n",
            "Epoch 17/50\n",
            "5/5 [==============================] - 0s 19ms/step - loss: 3.6946e-04 - val_loss: 459779.7500\n",
            "Epoch 18/50\n",
            "5/5 [==============================] - 0s 18ms/step - loss: 3.6532e-04 - val_loss: 459782.8125\n",
            "Epoch 19/50\n",
            "5/5 [==============================] - 0s 19ms/step - loss: 3.6397e-04 - val_loss: 459790.9062\n",
            "Epoch 20/50\n",
            "5/5 [==============================] - 0s 20ms/step - loss: 3.6006e-04 - val_loss: 459780.8438\n",
            "Epoch 21/50\n",
            "5/5 [==============================] - 0s 20ms/step - loss: 3.4504e-04 - val_loss: 459788.0625\n",
            "Epoch 22/50\n",
            "5/5 [==============================] - 0s 20ms/step - loss: 3.4608e-04 - val_loss: 459786.9688\n",
            "Epoch 23/50\n",
            "5/5 [==============================] - 0s 18ms/step - loss: 3.3272e-04 - val_loss: 459768.0625\n",
            "Epoch 24/50\n",
            "5/5 [==============================] - 0s 20ms/step - loss: 3.3648e-04 - val_loss: 459794.9375\n",
            "Epoch 25/50\n",
            "5/5 [==============================] - 0s 18ms/step - loss: 3.4258e-04 - val_loss: 459760.4375\n",
            "Epoch 26/50\n",
            "5/5 [==============================] - 0s 19ms/step - loss: 3.4553e-04 - val_loss: 459785.6250\n",
            "Epoch 27/50\n",
            "5/5 [==============================] - 0s 19ms/step - loss: 3.3975e-04 - val_loss: 459813.8125\n",
            "Epoch 28/50\n",
            "5/5 [==============================] - 0s 19ms/step - loss: 3.9928e-04 - val_loss: 459763.3438\n",
            "Epoch 29/50\n",
            "5/5 [==============================] - 0s 18ms/step - loss: 3.4635e-04 - val_loss: 459787.0312\n",
            "Epoch 30/50\n",
            "5/5 [==============================] - 0s 20ms/step - loss: 3.3657e-04 - val_loss: 459780.0312\n",
            "Epoch 31/50\n",
            "5/5 [==============================] - 0s 19ms/step - loss: 3.0414e-04 - val_loss: 459776.6250\n",
            "Epoch 32/50\n",
            "5/5 [==============================] - 0s 19ms/step - loss: 2.9668e-04 - val_loss: 459780.5312\n",
            "Epoch 33/50\n",
            "5/5 [==============================] - 0s 20ms/step - loss: 2.9046e-04 - val_loss: 459782.1562\n",
            "Epoch 34/50\n",
            "5/5 [==============================] - 0s 19ms/step - loss: 2.9010e-04 - val_loss: 459760.0000\n",
            "Epoch 35/50\n",
            "5/5 [==============================] - 0s 19ms/step - loss: 2.9225e-04 - val_loss: 459766.3750\n",
            "Epoch 36/50\n",
            "5/5 [==============================] - 0s 19ms/step - loss: 2.8319e-04 - val_loss: 459779.2188\n",
            "Epoch 37/50\n",
            "5/5 [==============================] - 0s 19ms/step - loss: 2.7923e-04 - val_loss: 459752.1875\n",
            "Epoch 38/50\n",
            "5/5 [==============================] - 0s 19ms/step - loss: 2.9980e-04 - val_loss: 459786.5625\n",
            "Epoch 39/50\n",
            "5/5 [==============================] - 0s 20ms/step - loss: 2.7635e-04 - val_loss: 459784.2188\n",
            "Epoch 40/50\n",
            "5/5 [==============================] - 0s 21ms/step - loss: 2.7811e-04 - val_loss: 459762.3750\n",
            "Epoch 41/50\n",
            "5/5 [==============================] - 0s 20ms/step - loss: 2.6342e-04 - val_loss: 459761.2812\n",
            "Epoch 42/50\n",
            "5/5 [==============================] - 0s 21ms/step - loss: 2.6317e-04 - val_loss: 459765.7812\n",
            "Epoch 43/50\n",
            "5/5 [==============================] - 0s 19ms/step - loss: 2.6323e-04 - val_loss: 459758.2812\n",
            "Epoch 44/50\n",
            "5/5 [==============================] - 0s 20ms/step - loss: 2.5825e-04 - val_loss: 459778.2812\n",
            "Epoch 45/50\n",
            "5/5 [==============================] - 0s 19ms/step - loss: 2.5491e-04 - val_loss: 459773.3438\n",
            "Epoch 46/50\n",
            "5/5 [==============================] - 0s 19ms/step - loss: 2.5394e-04 - val_loss: 459749.4375\n",
            "Epoch 47/50\n",
            "5/5 [==============================] - 0s 19ms/step - loss: 2.5372e-04 - val_loss: 459774.5000\n",
            "Epoch 48/50\n",
            "5/5 [==============================] - 0s 21ms/step - loss: 2.5288e-04 - val_loss: 459761.1250\n",
            "Epoch 49/50\n",
            "5/5 [==============================] - 0s 19ms/step - loss: 2.4406e-04 - val_loss: 459761.6250\n",
            "Epoch 50/50\n",
            "5/5 [==============================] - 0s 19ms/step - loss: 2.4127e-04 - val_loss: 459769.3125\n"
          ],
          "name": "stdout"
        },
        {
          "output_type": "execute_result",
          "data": {
            "text/plain": [
              "<tensorflow.python.keras.callbacks.History at 0x7fd34c22e160>"
            ]
          },
          "metadata": {
            "tags": []
          },
          "execution_count": 210
        }
      ]
    },
    {
      "cell_type": "code",
      "metadata": {
        "id": "4TmkS3lqktSL",
        "colab_type": "code",
        "outputId": "3eaed7c7-6a09-4fb2-b2d9-02a939d21c51",
        "colab": {
          "base_uri": "https://localhost:8080/",
          "height": 33
        }
      },
      "source": [
        "## Predictions using LSTM: Testing Data\n",
        "predictions = model.predict(xTest)\n",
        "predictions = normalizer.inverse_transform(predictions)\n",
        "\n",
        "# Calculating RMSE\n",
        "rmse =np.sqrt(np.mean(((predictions- yTest)**2)))\n",
        "rmse"
      ],
      "execution_count": 229,
      "outputs": [
        {
          "output_type": "execute_result",
          "data": {
            "text/plain": [
              "65.39262495624816"
            ]
          },
          "metadata": {
            "tags": []
          },
          "execution_count": 229
        }
      ]
    },
    {
      "cell_type": "code",
      "metadata": {
        "id": "JqUIQcy7Rac7",
        "colab_type": "code",
        "colab": {
          "base_uri": "https://localhost:8080/",
          "height": 610
        },
        "outputId": "ebb383d3-017c-409a-9814-90fa093bb0b5"
      },
      "source": [
        "## Visualizing Results Testing Data\n",
        "trainData = data[:trainingDataLength]\n",
        "validation = data[trainingDataLength:]\n",
        "validation['Predictions'] = predictions\n",
        "\n",
        "plt.figure(figsize=(16,8))\n",
        "plt.title('Closing Price in £')\n",
        "plt.plot(trainData['Close'], color='black')\n",
        "plt.plot(validation[['Close','Predictions']])\n",
        "\n",
        "plt.xlabel('Date')\n",
        "plt.ylabel('Sterling Pounds')\n",
        "plt.legend(['Training Data','Real','Prediction'])\n",
        "plt.grid()\n",
        "\n",
        "currentFig = plt.gcf()\n",
        "currentFig.set_facecolor('white')\n",
        "plt.show()"
      ],
      "execution_count": 230,
      "outputs": [
        {
          "output_type": "stream",
          "text": [
            "/usr/local/lib/python3.6/dist-packages/ipykernel_launcher.py:4: SettingWithCopyWarning: \n",
            "A value is trying to be set on a copy of a slice from a DataFrame.\n",
            "Try using .loc[row_indexer,col_indexer] = value instead\n",
            "\n",
            "See the caveats in the documentation: https://pandas.pydata.org/pandas-docs/stable/user_guide/indexing.html#returning-a-view-versus-a-copy\n",
            "  after removing the cwd from sys.path.\n"
          ],
          "name": "stderr"
        },
        {
          "output_type": "display_data",
          "data": {
            "image/png": "[encoded data removed]",
            "text/plain": [
              "<Figure size 1152x576 with 1 Axes>"
            ]
          },
          "metadata": {
            "tags": []
          }
        }
      ]
    },
    {
      "cell_type": "code",
      "metadata": {
        "id": "XR0YHFEuPsxA",
        "colab_type": "code",
        "colab": {
          "base_uri": "https://localhost:8080/",
          "height": 82
        },
        "outputId": "bdebb30c-439d-4632-f1a8-1932f5b3f61c"
      },
      "source": [
        "## Using model to predict new data\n",
        "start_date = '2018-06-09'\n",
        "end_date = '2020-06-10'\n",
        "\n",
        "stockName = 'AMZN'\n",
        "\n",
        "newStockQuery = data.get_data_yahoo(stockName, start_date, end_date)\n",
        "newStockQuery.head() \n",
        "\n",
        "# get closing price \n",
        "stockData = newStockQuery.filter(['Close'])\n",
        "\n",
        "# get last 60 days\n",
        "last60Days = stockData[-60:].values\n",
        "normalizedData = normalizer.transform(last60Days)\n",
        "\n",
        "# prepare new test data, normalize and reshape\n",
        "xTest = []\n",
        "xTest.append(normalizedData)\n",
        "\n",
        "xTest = np.array(xTest)\n",
        "xTest = np.reshape(xTest,(xTest.shape[0],xTest.shape[1],1))\n",
        "\n",
        "# predict and reverse the normalization\n",
        "predictedNew = model.predict(xTest) \n",
        "predictedNew = normalizer.inverse_transform(predictedNew)\n",
        "print('predicted price: ' + str(predictedNew))\n",
        "\n",
        "# Real value\n",
        "realValue = data.get_data_yahoo(stockName, end_date, end_date)\n",
        "print(realValue['Close'])\n"
      ],
      "execution_count": 249,
      "outputs": [
        {
          "output_type": "stream",
          "text": [
            "predicted price: [[2333.7725]]\n",
            "Date\n",
            "2020-06-10    2647.449951\n",
            "Name: Close, dtype: float64\n"
          ],
          "name": "stdout"
        }
      ]
    }
  ]
}